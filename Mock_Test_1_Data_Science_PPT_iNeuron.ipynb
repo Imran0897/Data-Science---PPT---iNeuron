{
  "nbformat": 4,
  "nbformat_minor": 0,
  "metadata": {
    "colab": {
      "provenance": [],
      "authorship_tag": "ABX9TyOX+bV7zHaH2G5rvCkPRfo2",
      "include_colab_link": true
    },
    "kernelspec": {
      "name": "python3",
      "display_name": "Python 3"
    },
    "language_info": {
      "name": "python"
    }
  },
  "cells": [
    {
      "cell_type": "markdown",
      "metadata": {
        "id": "view-in-github",
        "colab_type": "text"
      },
      "source": [
        "<a href=\"https://colab.research.google.com/github/Imran0897/Data-Science---PPT---iNeuron/blob/main/Mock_Test_1_Data_Science_PPT_iNeuron.ipynb\" target=\"_parent\"><img src=\"https://colab.research.google.com/assets/colab-badge.svg\" alt=\"Open In Colab\"/></a>"
      ]
    },
    {
      "cell_type": "markdown",
      "source": [
        "17. Write a function that takes a list of numbers as input and returns a new list containing only the even numbers from the input list. Use list comprehension to solve this problem.\n",
        "\n",
        "Example:\n",
        "\n",
        "Input: [1, 2, 3, 4, 5, 6, 7, 8, 9, 10]\n",
        "\n",
        "Output: [2, 4, 6, 8, 10]"
      ],
      "metadata": {
        "id": "YoeCzTePMx6l"
      }
    },
    {
      "cell_type": "code",
      "source": [
        "#Ans.\n",
        "\n",
        "def even_num(l):\n",
        "  l1 = []\n",
        "  for i in l:\n",
        "    if i%2==0:\n",
        "      l1.append(i)\n",
        "    else:\n",
        "      pass\n",
        "  return l1"
      ],
      "metadata": {
        "id": "6UXGABDiMytl"
      },
      "execution_count": 7,
      "outputs": []
    },
    {
      "cell_type": "markdown",
      "source": [
        "18. Implement a decorator function called ‘timer’ that measures the execution time of a function. The ‘timer’ decorator should print the time taken by the decorated function to execute. Use the ‘time’ module in Python to calculate the execution time.\n"
      ],
      "metadata": {
        "id": "FdHUDN-NNw3z"
      }
    },
    {
      "cell_type": "code",
      "source": [
        "#Ans.\n",
        "\n",
        "import time\n",
        "\n",
        "def timer(func):\n",
        "    def wrapper(a, b):\n",
        "        start_time = time.time()\n",
        "        result = func(a, b)\n",
        "        end_time = time.time()\n",
        "        execution_time = end_time - start_time\n",
        "        print(f\"Execution time: {execution_time:.5f} seconds\")\n",
        "        return result\n",
        "    return wrapper\n",
        "\n",
        "@timer\n",
        "def my_function(a,b):\n",
        "    result=a*b\n",
        "    time.sleep(2)\n",
        "\n",
        "my_function(4,5)\n"
      ],
      "metadata": {
        "colab": {
          "base_uri": "https://localhost:8080/"
        },
        "id": "JPivL7VINS2j",
        "outputId": "999aa449-7de7-4c37-a7cd-fc063f8cf12b"
      },
      "execution_count": 12,
      "outputs": [
        {
          "output_type": "stream",
          "name": "stdout",
          "text": [
            "Execution time: 2.00024 seconds\n"
          ]
        }
      ]
    },
    {
      "cell_type": "markdown",
      "source": [
        "19. Write a function called ‘calculate_mean’ that takes a list of numbers as input and returns the mean (average) of the numbers. The function should calculate the mean using the sum of the numbers divided by the total count.\n"
      ],
      "metadata": {
        "id": "U7X-UjCfP4FE"
      }
    },
    {
      "cell_type": "code",
      "source": [
        "def calculate_mean(l):\n",
        "  total = sum(l)\n",
        "  count = len(l)\n",
        "  mean = total/count\n",
        "  return mean"
      ],
      "metadata": {
        "id": "k_iMi1HrOkLc"
      },
      "execution_count": 14,
      "outputs": []
    },
    {
      "cell_type": "markdown",
      "source": [
        "20. Write a function called ‘perform_hypothesis_test’ that takes two lists of numbers as input, representing two samples. The function should perform a two-sample t-test and return the p-value. Use the ‘scipy.stats’ module in Python to calculate the t-test and p-value.\n"
      ],
      "metadata": {
        "id": "PXQPFfjWRrnu"
      }
    },
    {
      "cell_type": "code",
      "source": [
        "from scipy import stats\n",
        "def perform_hypothesis_test(sample1, sample2):\n",
        "  t_statistic, p_value = stats.ttest_ind(sample1, sample2)\n",
        "  return p_value"
      ],
      "metadata": {
        "id": "h_ag2TeFRZen"
      },
      "execution_count": 16,
      "outputs": []
    }
  ]
}